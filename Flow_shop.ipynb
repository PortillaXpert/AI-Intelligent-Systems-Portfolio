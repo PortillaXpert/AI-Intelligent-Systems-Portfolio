{
  "nbformat": 4,
  "nbformat_minor": 0,
  "metadata": {
    "colab": {
      "provenance": []
    },
    "kernelspec": {
      "name": "python3",
      "display_name": "Python 3"
    },
    "language_info": {
      "name": "python"
    }
  },
  "cells": [
    {
      "cell_type": "markdown",
      "source": [
        "# **PROBLEMAS TIPO FLOW-SHOP**"
      ],
      "metadata": {
        "id": "xaVMpGaeSh8m"
      }
    },
    {
      "cell_type": "markdown",
      "source": [
        "Se analiza el problema llevando a cabo la programación del material obtenido."
      ],
      "metadata": {
        "id": "xUfCX6SMS7t_"
      }
    },
    {
      "cell_type": "code",
      "execution_count": null,
      "metadata": {
        "colab": {
          "base_uri": "https://localhost:8080/"
        },
        "id": "ELSTdFX-KRZ9",
        "outputId": "516d6eb7-9531-4918-b9c3-99480aa25681"
      },
      "outputs": [
        {
          "output_type": "stream",
          "name": "stdout",
          "text": [
            "Matriz de Makespan (Cij):\n",
            "[[ 5. 10. 13. 19. 22.]\n",
            " [ 9. 14. 16. 23. 27.]\n",
            " [13. 18. 20. 27. 28.]\n",
            " [16. 24. 27. 29. 34.]]\n",
            "El Makespan final es: 34.0\n"
          ]
        }
      ],
      "source": [
        "import numpy as np\n",
        "\n",
        "#tiempos de procesamiento (Tij) para las tareas y máquinas\n",
        "processing_times = np.array([\n",
        "    [5, 5, 3, 6, 3], #M1\n",
        "    [4, 4, 2, 4, 4], #M2\n",
        "    [4, 4, 2, 4, 1], #M3\n",
        "    [3, 6, 3, 2, 5]  #M4\n",
        "])\n",
        "\n",
        "n_machines = processing_times.shape[0]  #tiempo de procesamiento para maquinas\n",
        "n_tasks = processing_times.shape[1]     #para tareas\n",
        "\n",
        "#Inicializamos el makespan\n",
        "makespan = np.zeros((n_machines, n_tasks))\n",
        "\n",
        "#se inicia el calculo del makespan\n",
        "makespan[0, 0] = processing_times[0, 0]\n",
        "\n",
        "for j in range(1, n_tasks):\n",
        "    makespan[0, j] = makespan[0, j-1] + processing_times[0, j]\n",
        "\n",
        "for i in range(1, n_machines):\n",
        "    makespan[i, 0] = makespan[i-1, 0] + processing_times[i, 0]\n",
        "\n",
        "for i in range(1, n_machines):\n",
        "    for j in range(1, n_tasks):\n",
        "        makespan[i, j] = max(makespan[i-1, j], makespan[i, j-1]) + processing_times[i, j]\n",
        "\n",
        "print(\"Matriz de Makespan (Cij):\")\n",
        "print(makespan)\n",
        "\n",
        "final_makespan = makespan[-1, -1]\n",
        "print(f\"El Makespan final es: {final_makespan}\")\n"
      ]
    },
    {
      "cell_type": "markdown",
      "source": [
        "# **Implementación con mutación basada en desplazamiento**"
      ],
      "metadata": {
        "id": "eo1ajbYYPodW"
      }
    },
    {
      "cell_type": "code",
      "source": [
        "import random\n",
        "\n",
        "#fitness\n",
        "def evaluate(chromosome, tiempos):\n",
        "    n_tareas = len(chromosome)\n",
        "    m_maquinas = len(tiempos)\n",
        "\n",
        "#Matriz de tiempos\n",
        "    C = [[0] * (n_tareas + 1) for _ in range(m_maquinas)]\n",
        "\n",
        "#Calcular el makespan\n",
        "    for i in range(1, n_tareas + 1):\n",
        "        for j in range(1, m_maquinas + 1):\n",
        "            if i == 1 and j == 1:\n",
        "                C[j-1][i] = tiempos[j-1][chromosome[i-1]-1]\n",
        "            elif i == 1:\n",
        "                C[j-1][i] = C[j-2][i] + tiempos[j-1][chromosome[i-1]-1]\n",
        "            elif j == 1:\n",
        "                C[j-1][i] = C[j-1][i-1] + tiempos[j-1][chromosome[i-1]-1]\n",
        "            else:\n",
        "                C[j-1][i] = max(C[j-1][i-1], C[j-2][i]) + tiempos[j-1][chromosome[i-1]-1]\n",
        "\n",
        "    makespan = C[m_maquinas-1][n_tareas]\n",
        "    return makespan\n",
        "\n",
        "def mutacion_desplazamiento(chromosome, tiempos):\n",
        "    best_chromosome = chromosome[:]\n",
        "    best_score = evaluate(chromosome, tiempos)\n",
        "    print(f\"Camino inicial: {chromosome} con Makespan: {best_score}\")\n",
        "\n",
        "    for _ in range(10):\n",
        "        new_chromosome = chromosome[:]\n",
        "        i = random.randint(0, len(new_chromosome) - 1)\n",
        "        j = random.randint(0, len(new_chromosome) - 1)\n",
        "\n",
        "        gen = new_chromosome.pop(i)\n",
        "        new_chromosome.insert(j, gen)\n",
        "\n",
        "        score = evaluate(new_chromosome, tiempos)\n",
        "        print(f\"Nuevo camino: {new_chromosome} con Makespan: {score}\")\n",
        "\n",
        "        if score < best_score:\n",
        "            best_chromosome = new_chromosome[:]\n",
        "            best_score = score\n",
        "\n",
        "    print(f\"Mejor camino encontrado: {best_chromosome} con Makespan: {best_score}\")\n",
        "    return best_chromosome\n",
        "\n",
        "chromosome = [1, 2, 3, 4, 5]\n",
        "tiempos = [\n",
        "    [5, 5, 3, 6, 3],\n",
        "    [4, 4, 2, 4, 4],\n",
        "    [4, 4, 2, 4, 1],\n",
        "    [3, 6, 3, 2, 5]\n",
        "]\n",
        "\n",
        "mutacion_desplazamiento(chromosome, tiempos)\n"
      ],
      "metadata": {
        "colab": {
          "base_uri": "https://localhost:8080/"
        },
        "id": "CbceCcmTPrr2",
        "outputId": "7a5957a7-1250-4f1a-b70f-975ee9b4bd06"
      },
      "execution_count": null,
      "outputs": [
        {
          "output_type": "stream",
          "name": "stdout",
          "text": [
            "Camino inicial: [1, 2, 3, 4, 5] con Makespan: 34\n",
            "Nuevo camino: [1, 4, 2, 3, 5] con Makespan: 38\n",
            "Nuevo camino: [1, 5, 2, 3, 4] con Makespan: 32\n",
            "Nuevo camino: [1, 3, 2, 4, 5] con Makespan: 34\n",
            "Nuevo camino: [1, 2, 4, 5, 3] con Makespan: 34\n",
            "Nuevo camino: [4, 1, 2, 3, 5] con Makespan: 38\n",
            "Nuevo camino: [2, 3, 4, 1, 5] con Makespan: 35\n",
            "Nuevo camino: [1, 2, 3, 4, 5] con Makespan: 34\n",
            "Nuevo camino: [1, 5, 2, 3, 4] con Makespan: 32\n",
            "Nuevo camino: [1, 3, 2, 4, 5] con Makespan: 34\n",
            "Nuevo camino: [2, 3, 4, 5, 1] con Makespan: 33\n",
            "Mejor camino encontrado: [1, 5, 2, 3, 4] con Makespan: 32\n"
          ]
        },
        {
          "output_type": "execute_result",
          "data": {
            "text/plain": [
              "[1, 5, 2, 3, 4]"
            ]
          },
          "metadata": {},
          "execution_count": 5
        }
      ]
    },
    {
      "cell_type": "markdown",
      "source": [
        "Evaluamos multiples camino, este metodo nos parece realmente ideal dado que su concepto se ajusta directamente a los requerimientos de optimización y se liga al contexto."
      ],
      "metadata": {
        "id": "hoePBRpMYNOG"
      }
    },
    {
      "cell_type": "markdown",
      "source": [
        "No obstante, dado que analizamos la teoria y releemos el contexto del ejercicio, nos dimos cuenta que esta tecnica encuentra una solución local, con lo que nos preguntamos:"
      ],
      "metadata": {
        "id": "KfRkUR7qY0FA"
      }
    },
    {
      "cell_type": "markdown",
      "source": [
        "**¿Qué pasaria si evaluamos una solución mucho mas global?**"
      ],
      "metadata": {
        "id": "wGmSaxt8Y_5W"
      }
    },
    {
      "cell_type": "markdown",
      "source": [
        "# **Función cruce desplazamiento : solución global**"
      ],
      "metadata": {
        "id": "Thjby4r6UYlg"
      }
    },
    {
      "cell_type": "code",
      "source": [
        "#Cruce basado en desplazamiento con makespan\n",
        "def cruce_desplazamiento(padre, madre, tiempos):\n",
        "\n",
        "    i = random.randint(0, len(padre) - 1)\n",
        "    j = random.randint(i + 1, len(padre))\n",
        "\n",
        "    #subcadena padre\n",
        "    subcadena = padre[i:j]\n",
        "    resto = [gen for gen in madre if gen not in subcadena]\n",
        "\n",
        "    #insertamos la subcadena\n",
        "    posicion_insercion = random.randint(0, len(resto))\n",
        "    hijo = resto[:posicion_insercion] + subcadena + resto[posicion_insercion:]\n",
        "\n",
        "    makespan_hijo = evaluate(hijo, tiempos)\n",
        "\n",
        "    print(f\"Cruce realizado: Padre: {padre}, Madre: {madre}, Hijo: {hijo}, Makespan del hijo: {makespan_hijo}\")\n",
        "    return hijo, makespan_hijo\n",
        "\n",
        "padre = [1, 2, 3, 4, 5]\n",
        "madre = [5, 4, 3, 2, 1]\n",
        "tiempos = [\n",
        "    [5, 5, 3, 6, 3],\n",
        "    [4, 4, 2, 4, 4],\n",
        "    [4, 4, 2, 4, 1],\n",
        "    [3, 6, 3, 2, 5]\n",
        "]\n",
        "\n",
        "hijo, makespan_hijo = cruce_desplazamiento(padre, madre, tiempos)\n"
      ],
      "metadata": {
        "colab": {
          "base_uri": "https://localhost:8080/"
        },
        "id": "EQQtIE6jSOKp",
        "outputId": "720f4a1c-c381-4ec8-fab8-d24b65e092ca"
      },
      "execution_count": null,
      "outputs": [
        {
          "output_type": "stream",
          "name": "stdout",
          "text": [
            "Cruce realizado: Padre: [1, 2, 3, 4, 5], Madre: [5, 4, 3, 2, 1], Hijo: [4, 5, 3, 2, 1], Makespan del hijo: 34\n"
          ]
        }
      ]
    },
    {
      "cell_type": "code",
      "source": [
        "import random\n",
        "\n",
        "#fitness\n",
        "def evaluate(chromosome, tiempos):\n",
        "    n_tareas = len(chromosome)\n",
        "    m_maquinas = len(tiempos)\n",
        "\n",
        "    C = [[0] * (n_tareas + 1) for _ in range(m_maquinas)]\n",
        "\n",
        "    for i in range(1, n_tareas + 1):\n",
        "        for j in range(1, m_maquinas + 1):\n",
        "            if i == 1 and j == 1:\n",
        "                C[j-1][i] = tiempos[j-1][chromosome[i-1]-1]\n",
        "            elif i == 1:\n",
        "                C[j-1][i] = C[j-2][i] + tiempos[j-1][chromosome[i-1]-1]\n",
        "            elif j == 1:\n",
        "                C[j-1][i] = C[j-1][i-1] + tiempos[j-1][chromosome[i-1]-1]\n",
        "            else:\n",
        "                C[j-1][i] = max(C[j-1][i-1], C[j-2][i]) + tiempos[j-1][chromosome[i-1]-1]\n",
        "\n",
        "    makespan = C[m_maquinas-1][n_tareas]\n",
        "    return makespan\n",
        "\n",
        "def mutacion_desplazamiento(chromosome, tiempos):\n",
        "    best_chromosome = chromosome[:]\n",
        "    best_score = evaluate(chromosome, tiempos)\n",
        "    print(f\"Camino inicial: {chromosome} con Makespan: {best_score}\")\n",
        "\n",
        "    for _ in range(100):\n",
        "        new_chromosome = chromosome[:]\n",
        "        i = random.randint(0, len(new_chromosome) - 1)\n",
        "        j = random.randint(0, len(new_chromosome) - 1)\n",
        "\n",
        "        gen = new_chromosome.pop(i)\n",
        "        new_chromosome.insert(j, gen)\n",
        "\n",
        "        score = evaluate(new_chromosome, tiempos)\n",
        "        print(f\"Nuevo camino: {new_chromosome} con Makespan: {score}\")\n",
        "\n",
        "        if score < best_score:\n",
        "            best_chromosome = new_chromosome[:]\n",
        "            best_score = score\n",
        "\n",
        "    print(f\"Mejor camino encontrado: {best_chromosome} con Makespan: {best_score}\")\n",
        "    return best_chromosome\n",
        "\n",
        "chromosome = [1, 2, 3, 4, 5]\n",
        "tiempos = [\n",
        "    [5, 5, 3, 6, 3],\n",
        "    [4, 4, 2, 4, 4],\n",
        "    [4, 4, 2, 4, 1],\n",
        "    [3, 6, 3, 2, 5]\n",
        "]\n",
        "\n",
        "mutacion_desplazamiento(chromosome, tiempos)\n"
      ],
      "metadata": {
        "colab": {
          "base_uri": "https://localhost:8080/"
        },
        "id": "SzKt-5BNd211",
        "outputId": "b9ad7492-eee5-45cc-8e5d-ae9972aa184a"
      },
      "execution_count": null,
      "outputs": [
        {
          "output_type": "stream",
          "name": "stdout",
          "text": [
            "Camino inicial: [1, 2, 3, 4, 5] con Makespan: 34\n",
            "Nuevo camino: [2, 3, 4, 1, 5] con Makespan: 35\n",
            "Nuevo camino: [1, 2, 3, 5, 4] con Makespan: 34\n",
            "Nuevo camino: [1, 2, 3, 4, 5] con Makespan: 34\n",
            "Nuevo camino: [1, 3, 2, 4, 5] con Makespan: 34\n",
            "Nuevo camino: [1, 2, 3, 5, 4] con Makespan: 34\n",
            "Nuevo camino: [1, 3, 2, 4, 5] con Makespan: 34\n",
            "Nuevo camino: [3, 1, 2, 4, 5] con Makespan: 34\n",
            "Nuevo camino: [1, 2, 4, 5, 3] con Makespan: 34\n",
            "Nuevo camino: [4, 1, 2, 3, 5] con Makespan: 38\n",
            "Nuevo camino: [1, 2, 3, 4, 5] con Makespan: 34\n",
            "Nuevo camino: [1, 3, 4, 2, 5] con Makespan: 38\n",
            "Nuevo camino: [3, 1, 2, 4, 5] con Makespan: 34\n",
            "Nuevo camino: [1, 3, 2, 4, 5] con Makespan: 34\n",
            "Nuevo camino: [3, 1, 2, 4, 5] con Makespan: 34\n",
            "Nuevo camino: [1, 3, 4, 5, 2] con Makespan: 36\n",
            "Nuevo camino: [2, 3, 1, 4, 5] con Makespan: 34\n",
            "Nuevo camino: [2, 3, 1, 4, 5] con Makespan: 34\n",
            "Nuevo camino: [5, 1, 2, 3, 4] con Makespan: 32\n",
            "Nuevo camino: [2, 1, 3, 4, 5] con Makespan: 34\n",
            "Nuevo camino: [1, 2, 4, 3, 5] con Makespan: 34\n",
            "Nuevo camino: [1, 2, 3, 5, 4] con Makespan: 34\n",
            "Nuevo camino: [1, 2, 3, 5, 4] con Makespan: 34\n",
            "Nuevo camino: [1, 3, 4, 5, 2] con Makespan: 36\n",
            "Nuevo camino: [1, 4, 2, 3, 5] con Makespan: 38\n",
            "Nuevo camino: [1, 2, 4, 3, 5] con Makespan: 34\n",
            "Nuevo camino: [1, 3, 4, 5, 2] con Makespan: 36\n",
            "Nuevo camino: [4, 1, 2, 3, 5] con Makespan: 38\n",
            "Nuevo camino: [1, 4, 2, 3, 5] con Makespan: 38\n",
            "Nuevo camino: [1, 3, 2, 4, 5] con Makespan: 34\n",
            "Nuevo camino: [1, 2, 4, 3, 5] con Makespan: 34\n",
            "Nuevo camino: [1, 3, 2, 4, 5] con Makespan: 34\n",
            "Nuevo camino: [2, 3, 4, 1, 5] con Makespan: 35\n",
            "Nuevo camino: [1, 2, 3, 4, 5] con Makespan: 34\n",
            "Nuevo camino: [1, 5, 2, 3, 4] con Makespan: 32\n",
            "Nuevo camino: [1, 2, 3, 4, 5] con Makespan: 34\n",
            "Nuevo camino: [1, 2, 3, 4, 5] con Makespan: 34\n",
            "Nuevo camino: [1, 3, 2, 4, 5] con Makespan: 34\n",
            "Nuevo camino: [2, 1, 3, 4, 5] con Makespan: 34\n",
            "Nuevo camino: [1, 2, 4, 3, 5] con Makespan: 34\n",
            "Nuevo camino: [1, 3, 2, 4, 5] con Makespan: 34\n",
            "Nuevo camino: [3, 1, 2, 4, 5] con Makespan: 34\n",
            "Nuevo camino: [1, 4, 2, 3, 5] con Makespan: 38\n",
            "Nuevo camino: [2, 3, 4, 1, 5] con Makespan: 35\n",
            "Nuevo camino: [1, 4, 2, 3, 5] con Makespan: 38\n",
            "Nuevo camino: [1, 2, 3, 4, 5] con Makespan: 34\n",
            "Nuevo camino: [1, 3, 2, 4, 5] con Makespan: 34\n",
            "Nuevo camino: [2, 3, 4, 1, 5] con Makespan: 35\n",
            "Nuevo camino: [1, 4, 2, 3, 5] con Makespan: 38\n",
            "Nuevo camino: [1, 2, 3, 4, 5] con Makespan: 34\n",
            "Nuevo camino: [2, 3, 4, 5, 1] con Makespan: 33\n",
            "Nuevo camino: [3, 1, 2, 4, 5] con Makespan: 34\n",
            "Nuevo camino: [1, 2, 3, 4, 5] con Makespan: 34\n",
            "Nuevo camino: [4, 1, 2, 3, 5] con Makespan: 38\n",
            "Nuevo camino: [2, 3, 1, 4, 5] con Makespan: 34\n",
            "Nuevo camino: [1, 2, 4, 3, 5] con Makespan: 34\n",
            "Nuevo camino: [2, 3, 4, 5, 1] con Makespan: 33\n",
            "Nuevo camino: [3, 1, 2, 4, 5] con Makespan: 34\n",
            "Nuevo camino: [1, 2, 3, 4, 5] con Makespan: 34\n",
            "Nuevo camino: [1, 3, 4, 2, 5] con Makespan: 38\n",
            "Nuevo camino: [1, 2, 3, 4, 5] con Makespan: 34\n",
            "Nuevo camino: [1, 4, 2, 3, 5] con Makespan: 38\n",
            "Nuevo camino: [1, 2, 3, 4, 5] con Makespan: 34\n",
            "Nuevo camino: [1, 2, 3, 5, 4] con Makespan: 34\n",
            "Nuevo camino: [5, 1, 2, 3, 4] con Makespan: 32\n",
            "Nuevo camino: [1, 3, 4, 2, 5] con Makespan: 38\n",
            "Nuevo camino: [1, 4, 2, 3, 5] con Makespan: 38\n",
            "Nuevo camino: [1, 2, 3, 4, 5] con Makespan: 34\n",
            "Nuevo camino: [2, 3, 1, 4, 5] con Makespan: 34\n",
            "Nuevo camino: [2, 1, 3, 4, 5] con Makespan: 34\n",
            "Nuevo camino: [1, 3, 2, 4, 5] con Makespan: 34\n",
            "Nuevo camino: [1, 2, 3, 4, 5] con Makespan: 34\n",
            "Nuevo camino: [1, 3, 2, 4, 5] con Makespan: 34\n",
            "Nuevo camino: [1, 3, 2, 4, 5] con Makespan: 34\n",
            "Nuevo camino: [1, 2, 4, 5, 3] con Makespan: 34\n",
            "Nuevo camino: [1, 2, 3, 5, 4] con Makespan: 34\n",
            "Nuevo camino: [1, 5, 2, 3, 4] con Makespan: 32\n",
            "Nuevo camino: [2, 3, 1, 4, 5] con Makespan: 34\n",
            "Nuevo camino: [1, 2, 3, 4, 5] con Makespan: 34\n",
            "Nuevo camino: [1, 2, 3, 4, 5] con Makespan: 34\n",
            "Nuevo camino: [1, 2, 4, 3, 5] con Makespan: 34\n",
            "Nuevo camino: [1, 3, 2, 4, 5] con Makespan: 34\n",
            "Nuevo camino: [1, 2, 4, 5, 3] con Makespan: 34\n",
            "Nuevo camino: [1, 2, 4, 5, 3] con Makespan: 34\n",
            "Nuevo camino: [1, 5, 2, 3, 4] con Makespan: 32\n",
            "Nuevo camino: [2, 1, 3, 4, 5] con Makespan: 34\n",
            "Nuevo camino: [2, 3, 1, 4, 5] con Makespan: 34\n",
            "Nuevo camino: [1, 2, 3, 5, 4] con Makespan: 34\n",
            "Nuevo camino: [1, 2, 3, 4, 5] con Makespan: 34\n",
            "Nuevo camino: [4, 1, 2, 3, 5] con Makespan: 38\n",
            "Nuevo camino: [1, 3, 2, 4, 5] con Makespan: 34\n",
            "Nuevo camino: [4, 1, 2, 3, 5] con Makespan: 38\n",
            "Nuevo camino: [1, 2, 3, 4, 5] con Makespan: 34\n",
            "Nuevo camino: [1, 2, 3, 5, 4] con Makespan: 34\n",
            "Nuevo camino: [1, 3, 4, 5, 2] con Makespan: 36\n",
            "Nuevo camino: [1, 5, 2, 3, 4] con Makespan: 32\n",
            "Nuevo camino: [2, 3, 4, 1, 5] con Makespan: 35\n",
            "Nuevo camino: [2, 3, 4, 1, 5] con Makespan: 35\n",
            "Nuevo camino: [2, 3, 4, 1, 5] con Makespan: 35\n",
            "Nuevo camino: [1, 2, 4, 5, 3] con Makespan: 34\n",
            "Nuevo camino: [1, 3, 2, 4, 5] con Makespan: 34\n",
            "Mejor camino encontrado: [5, 1, 2, 3, 4] con Makespan: 32\n"
          ]
        },
        {
          "output_type": "execute_result",
          "data": {
            "text/plain": [
              "[5, 1, 2, 3, 4]"
            ]
          },
          "metadata": {},
          "execution_count": 17
        }
      ]
    },
    {
      "cell_type": "markdown",
      "source": [
        "# **Optimización de solución global:**"
      ],
      "metadata": {
        "id": "Oc2-bkn0fN2T"
      }
    },
    {
      "cell_type": "code",
      "source": [
        "#Cruce basado en desplazamiento con makespan\n",
        "def cruce_desplazamiento(padre, madre, tiempos):\n",
        "\n",
        "    i = random.randint(0, len(padre) - 1)\n",
        "    j = random.randint(i + 1, len(padre))\n",
        "\n",
        "    #subcadena padre\n",
        "    subcadena = padre[i:j]\n",
        "    resto = [gen for gen in madre if gen not in subcadena]\n",
        "\n",
        "    #insertamos la subcadena\n",
        "    posicion_insercion = random.randint(0, len(resto))\n",
        "    hijo = resto[:posicion_insercion] + subcadena + resto[posicion_insercion:]\n",
        "\n",
        "    makespan_hijo = evaluate(hijo, tiempos)\n",
        "\n",
        "    print(f\"Cruce realizado: Padre: {padre}, Madre: {madre}, Hijo: {hijo}, Makespan del hijo: {makespan_hijo}\")\n",
        "    return hijo, makespan_hijo\n",
        "#Ahora hemos usado los resultados de la solución local en la global.\n",
        "padre = [1, 5, 2, 3, 4]\n",
        "madre = [5, 1, 2, 3, 4]\n",
        "tiempos = [\n",
        "    [5, 5, 3, 6, 3],\n",
        "    [4, 4, 2, 4, 4],\n",
        "    [4, 4, 2, 4, 1],\n",
        "    [3, 6, 3, 2, 5]\n",
        "]\n",
        "\n",
        "hijo, makespan_hijo = cruce_desplazamiento(padre, madre, tiempos)\n"
      ],
      "metadata": {
        "colab": {
          "base_uri": "https://localhost:8080/"
        },
        "id": "dYvkeA4meQ6V",
        "outputId": "83b7dbaa-52c3-4710-9cbe-f7950f5e5efb"
      },
      "execution_count": null,
      "outputs": [
        {
          "output_type": "stream",
          "name": "stdout",
          "text": [
            "Cruce realizado: Padre: [1, 5, 2, 3, 4], Madre: [5, 1, 2, 3, 4], Hijo: [5, 1, 2, 4, 3], Makespan del hijo: 32\n"
          ]
        }
      ]
    },
    {
      "cell_type": "markdown",
      "source": [
        "implementar algoritmo genetico, para saber cuántas iteraciones, usar tools y deep con las funciones implementadas. registrar en el tools los operadores e invocar, para evaluación, cruce y mutación."
      ],
      "metadata": {
        "id": "gtHhZqqfy9g_"
      }
    },
    {
      "cell_type": "code",
      "source": [
        "!pip install deap"
      ],
      "metadata": {
        "id": "x8mRTeJkyWZZ"
      },
      "execution_count": null,
      "outputs": []
    },
    {
      "cell_type": "code",
      "source": [
        "import random\n",
        "from deap import base, creator, tools, algorithms\n",
        "\n",
        "\n",
        "creator.create(\"FitnessMin\", base.Fitness, weights=(-1.0,))\n",
        "creator.create(\"Individual\", list, fitness=creator.FitnessMin)\n",
        "\n",
        "\n",
        "def evaluate(individual, tiempos):\n",
        "    n = len(individual)\n",
        "    m = len(tiempos)\n",
        "    tiempo_fin = [[0] * n for _ in range(m)]\n",
        "\n",
        "    for j in range(n):\n",
        "        for i in range(m):\n",
        "            if j == 0 and i == 0:\n",
        "                tiempo_fin[i][j] = tiempos[i][individual[j] - 1]\n",
        "            elif i == 0:\n",
        "                tiempo_fin[i][j] = tiempo_fin[i][j - 1] + tiempos[i][individual[j] - 1]\n",
        "            elif j == 0:\n",
        "                tiempo_fin[i][j] = tiempo_fin[i - 1][j] + tiempos[i][individual[j] - 1]\n",
        "            else:\n",
        "                tiempo_fin[i][j] = max(tiempo_fin[i - 1][j], tiempo_fin[i][j - 1]) + tiempos[i][individual[j] - 1]\n",
        "\n",
        "    return tiempo_fin[m - 1][n - 1],\n",
        "\n",
        "def cruce_desplazamiento(padre, madre):\n",
        "    i = random.randint(0, len(padre) - 1)\n",
        "    j = random.randint(i + 1, len(padre))\n",
        "\n",
        "\n",
        "    subcadena1 = padre[i:j]\n",
        "    resto1 = [gen for gen in madre if gen not in subcadena1]\n",
        "\n",
        "    posicion_insercion1 = random.randint(0, len(resto1))\n",
        "    hijo1 = resto1[:posicion_insercion1] + subcadena1 + resto1[posicion_insercion1:]\n",
        "\n",
        "    subcadena2 = madre[i:j]\n",
        "    resto2 = [gen for gen in padre if gen not in subcadena2]\n",
        "\n",
        "    posicion_insercion2 = random.randint(0, len(resto2))\n",
        "    hijo2 = resto2[:posicion_insercion2] + subcadena2 + resto2[posicion_insercion2:]\n",
        "\n",
        "    hijo1 = creator.Individual(hijo1)\n",
        "    hijo2 = creator.Individual(hijo2)\n",
        "\n",
        "    return hijo1, hijo2\n",
        "\n",
        "def mutacion_desplazamiento(individuo):\n",
        "    i = random.randint(0, len(individuo) - 1)\n",
        "    j = random.randint(0, len(individuo) - 1)\n",
        "\n",
        "    gen = individuo.pop(i)\n",
        "    individuo.insert(j, gen)\n",
        "\n",
        "    return individuo,\n",
        "\n",
        "#creamos el toolbox\n",
        "toolbox = base.Toolbox()\n",
        "\n",
        "toolbox.register(\"indices\", random.sample, range(1, 6), 5)\n",
        "toolbox.register(\"individual\", tools.initIterate, creator.Individual, toolbox.indices)\n",
        "toolbox.register(\"population\", tools.initRepeat, list, toolbox.individual)\n",
        "toolbox.register(\"evaluate\", evaluate, tiempos=[\n",
        "    [5, 5, 3, 6, 3],\n",
        "    [4, 4, 2, 4, 4],\n",
        "    [4, 4, 2, 4, 1],\n",
        "    [3, 6, 3, 2, 5]\n",
        "])\n",
        "\n",
        "toolbox.register(\"mate\", cruce_desplazamiento)\n",
        "toolbox.register(\"mutate\", mutacion_desplazamiento)\n",
        "toolbox.register(\"select\", tools.selTournament, tournsize=3)\n",
        "\n",
        "\n",
        "def algoritmo_genetico():\n",
        "    population = toolbox.population(n=100)\n",
        "    cxpb, mutpb, ngen = 0.5, 0.2, 40\n",
        "    stats = tools.Statistics(lambda ind: ind.fitness.values)\n",
        "    stats.register(\"avg\", lambda x: sum(f[0] for f in x) / len(x))\n",
        "    stats.register(\"min\", lambda x: min(f[0] for f in x))\n",
        "    stats.register(\"max\", lambda x: max(f[0] for f in x))\n",
        "    logbook = tools.Logbook()\n",
        "    logbook.header = ['gen', 'nevals'] + stats.fields\n",
        "\n",
        "    population, log = algorithms.eaSimple(\n",
        "        population, toolbox, cxpb, mutpb, ngen, stats=stats, verbose=True\n",
        "    )\n",
        "\n",
        "    best_individual = tools.selBest(population, 1)[0]\n",
        "    print(f\"\\nMejor camino encontrado: {best_individual}\")\n",
        "    print(f\"Makespan: {best_individual.fitness.values[0]}\")\n",
        "\n",
        "    for record in log:\n",
        "        print(record)\n",
        "\n",
        "algoritmo_genetico()\n"
      ],
      "metadata": {
        "colab": {
          "base_uri": "https://localhost:8080/"
        },
        "id": "J0ICotKHxln_",
        "outputId": "e8afe8b5-4501-4c1c-94a9-587b6800a2a9"
      },
      "execution_count": null,
      "outputs": [
        {
          "output_type": "stream",
          "name": "stdout",
          "text": [
            "gen\tnevals\tavg  \tmin\tmax\n",
            "0  \t100   \t34.68\t32 \t38 \n",
            "1  \t69    \t33.57\t32 \t38 \n",
            "2  \t63    \t32.86\t32 \t36 \n",
            "3  \t74    \t33.03\t32 \t38 \n",
            "4  \t50    \t32.55\t32 \t38 \n",
            "5  \t63    \t32.78\t32 \t38 \n",
            "6  \t58    \t32.94\t32 \t36 \n",
            "7  \t54    \t32.55\t32 \t36 \n",
            "8  \t55    \t32.74\t32 \t36 \n",
            "9  \t63    \t32.56\t32 \t38 \n",
            "10 \t51    \t32.74\t32 \t38 \n",
            "11 \t52    \t32.55\t32 \t38 \n",
            "12 \t59    \t32.96\t32 \t38 \n",
            "13 \t67    \t32.82\t32 \t36 \n",
            "14 \t60    \t32.59\t32 \t36 \n",
            "15 \t62    \t32.81\t32 \t38 \n",
            "16 \t64    \t32.91\t32 \t38 \n",
            "17 \t60    \t32.71\t32 \t36 \n",
            "18 \t55    \t32.54\t32 \t36 \n",
            "19 \t63    \t32.79\t32 \t36 \n",
            "20 \t52    \t32.94\t32 \t38 \n",
            "21 \t57    \t32.8 \t32 \t38 \n",
            "22 \t60    \t32.68\t32 \t36 \n",
            "23 \t73    \t32.78\t32 \t38 \n",
            "24 \t60    \t32.56\t32 \t36 \n",
            "25 \t73    \t32.89\t32 \t36 \n",
            "26 \t57    \t32.65\t32 \t36 \n",
            "27 \t61    \t32.58\t32 \t36 \n",
            "28 \t47    \t32.66\t32 \t38 \n",
            "29 \t61    \t32.78\t32 \t38 \n",
            "30 \t62    \t32.81\t32 \t36 \n",
            "31 \t60    \t32.56\t32 \t36 \n",
            "32 \t59    \t32.76\t32 \t38 \n",
            "33 \t65    \t32.59\t32 \t38 \n",
            "34 \t60    \t32.87\t32 \t38 \n",
            "35 \t51    \t32.55\t32 \t36 \n",
            "36 \t68    \t32.98\t32 \t38 \n",
            "37 \t66    \t32.6 \t32 \t36 \n",
            "38 \t65    \t32.5 \t32 \t36 \n",
            "39 \t54    \t32.73\t32 \t36 \n",
            "40 \t58    \t32.73\t32 \t36 \n",
            "\n",
            "Mejor camino encontrado: [5, 1, 2, 3, 4]\n",
            "Makespan: 32.0\n",
            "{'gen': 0, 'nevals': 100, 'avg': 34.68, 'min': 32.0, 'max': 38.0}\n",
            "{'gen': 1, 'nevals': 69, 'avg': 33.57, 'min': 32.0, 'max': 38.0}\n",
            "{'gen': 2, 'nevals': 63, 'avg': 32.86, 'min': 32.0, 'max': 36.0}\n",
            "{'gen': 3, 'nevals': 74, 'avg': 33.03, 'min': 32.0, 'max': 38.0}\n",
            "{'gen': 4, 'nevals': 50, 'avg': 32.55, 'min': 32.0, 'max': 38.0}\n",
            "{'gen': 5, 'nevals': 63, 'avg': 32.78, 'min': 32.0, 'max': 38.0}\n",
            "{'gen': 6, 'nevals': 58, 'avg': 32.94, 'min': 32.0, 'max': 36.0}\n",
            "{'gen': 7, 'nevals': 54, 'avg': 32.55, 'min': 32.0, 'max': 36.0}\n",
            "{'gen': 8, 'nevals': 55, 'avg': 32.74, 'min': 32.0, 'max': 36.0}\n",
            "{'gen': 9, 'nevals': 63, 'avg': 32.56, 'min': 32.0, 'max': 38.0}\n",
            "{'gen': 10, 'nevals': 51, 'avg': 32.74, 'min': 32.0, 'max': 38.0}\n",
            "{'gen': 11, 'nevals': 52, 'avg': 32.55, 'min': 32.0, 'max': 38.0}\n",
            "{'gen': 12, 'nevals': 59, 'avg': 32.96, 'min': 32.0, 'max': 38.0}\n",
            "{'gen': 13, 'nevals': 67, 'avg': 32.82, 'min': 32.0, 'max': 36.0}\n",
            "{'gen': 14, 'nevals': 60, 'avg': 32.59, 'min': 32.0, 'max': 36.0}\n",
            "{'gen': 15, 'nevals': 62, 'avg': 32.81, 'min': 32.0, 'max': 38.0}\n",
            "{'gen': 16, 'nevals': 64, 'avg': 32.91, 'min': 32.0, 'max': 38.0}\n",
            "{'gen': 17, 'nevals': 60, 'avg': 32.71, 'min': 32.0, 'max': 36.0}\n",
            "{'gen': 18, 'nevals': 55, 'avg': 32.54, 'min': 32.0, 'max': 36.0}\n",
            "{'gen': 19, 'nevals': 63, 'avg': 32.79, 'min': 32.0, 'max': 36.0}\n",
            "{'gen': 20, 'nevals': 52, 'avg': 32.94, 'min': 32.0, 'max': 38.0}\n",
            "{'gen': 21, 'nevals': 57, 'avg': 32.8, 'min': 32.0, 'max': 38.0}\n",
            "{'gen': 22, 'nevals': 60, 'avg': 32.68, 'min': 32.0, 'max': 36.0}\n",
            "{'gen': 23, 'nevals': 73, 'avg': 32.78, 'min': 32.0, 'max': 38.0}\n",
            "{'gen': 24, 'nevals': 60, 'avg': 32.56, 'min': 32.0, 'max': 36.0}\n",
            "{'gen': 25, 'nevals': 73, 'avg': 32.89, 'min': 32.0, 'max': 36.0}\n",
            "{'gen': 26, 'nevals': 57, 'avg': 32.65, 'min': 32.0, 'max': 36.0}\n",
            "{'gen': 27, 'nevals': 61, 'avg': 32.58, 'min': 32.0, 'max': 36.0}\n",
            "{'gen': 28, 'nevals': 47, 'avg': 32.66, 'min': 32.0, 'max': 38.0}\n",
            "{'gen': 29, 'nevals': 61, 'avg': 32.78, 'min': 32.0, 'max': 38.0}\n",
            "{'gen': 30, 'nevals': 62, 'avg': 32.81, 'min': 32.0, 'max': 36.0}\n",
            "{'gen': 31, 'nevals': 60, 'avg': 32.56, 'min': 32.0, 'max': 36.0}\n",
            "{'gen': 32, 'nevals': 59, 'avg': 32.76, 'min': 32.0, 'max': 38.0}\n",
            "{'gen': 33, 'nevals': 65, 'avg': 32.59, 'min': 32.0, 'max': 38.0}\n",
            "{'gen': 34, 'nevals': 60, 'avg': 32.87, 'min': 32.0, 'max': 38.0}\n",
            "{'gen': 35, 'nevals': 51, 'avg': 32.55, 'min': 32.0, 'max': 36.0}\n",
            "{'gen': 36, 'nevals': 68, 'avg': 32.98, 'min': 32.0, 'max': 38.0}\n",
            "{'gen': 37, 'nevals': 66, 'avg': 32.6, 'min': 32.0, 'max': 36.0}\n",
            "{'gen': 38, 'nevals': 65, 'avg': 32.5, 'min': 32.0, 'max': 36.0}\n",
            "{'gen': 39, 'nevals': 54, 'avg': 32.73, 'min': 32.0, 'max': 36.0}\n",
            "{'gen': 40, 'nevals': 58, 'avg': 32.73, 'min': 32.0, 'max': 36.0}\n"
          ]
        }
      ]
    },
    {
      "cell_type": "markdown",
      "source": [
        "#**Conclusiones**"
      ],
      "metadata": {
        "id": "LcIH86zaaW51"
      }
    },
    {
      "cell_type": "markdown",
      "source": [
        "\n",
        "\n",
        "*   Mutación basada en desplazamiento como método efectivo.\n",
        "*   Cruce basado en desplazamiento cuenta con mayor aleatoriedad.\n",
        "*   Análisis de exploración  vs explotación.\n",
        "*   Diversidad en el espacio de búsqueda.\n",
        "*   El rol del makespan fue clave para la evaluación.\n",
        "*   La mutación es mas efectiva para  Problema Flow-Shop.\n",
        "\n",
        "\n",
        "\n",
        "\n",
        "\n",
        "\n",
        "\n",
        "\n",
        "\n"
      ],
      "metadata": {
        "id": "cEdfrJKyac3c"
      }
    }
  ]
}